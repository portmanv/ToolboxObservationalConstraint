{
 "cells": [
  {
   "cell_type": "markdown",
   "id": "38fd73ce-e5c3-4458-838d-16cc82a6c07c",
   "metadata": {},
   "source": [
    "## This notebook specifies the packages and their version to install\n",
    "\n",
    "These are recommandations of the versions to install to avoid conflictual packages. For example, when this toolbox was developped, the package \"intake\" could not work with a version 2.x of numpy."
   ]
  },
  {
   "cell_type": "code",
   "execution_count": 2,
   "id": "bc7770de-e8b0-4a7a-a0b4-8368f6421887",
   "metadata": {},
   "outputs": [
    {
     "name": "stdout",
     "output_type": "stream",
     "text": [
      "Requirement already satisfied: numpy==1.26.4 in c:\\users\\vportmann\\.conda\\envs\\toolbox7\\lib\\site-packages (1.26.4)\n"
     ]
    }
   ],
   "source": [
    "!pip install numpy==1.26.4"
   ]
  },
  {
   "cell_type": "code",
   "execution_count": 3,
   "id": "69915dcb-710a-4e64-a401-81d757b29876",
   "metadata": {
    "scrolled": true
   },
   "outputs": [
    {
     "name": "stdout",
     "output_type": "stream",
     "text": [
      "Collecting intake==2.0.6\n",
      "  Using cached intake-2.0.6-py3-none-any.whl.metadata (2.4 kB)\n",
      "Collecting fsspec>=2023.0.0 (from intake==2.0.6)\n",
      "  Using cached fsspec-2024.6.1-py3-none-any.whl.metadata (11 kB)\n",
      "Requirement already satisfied: pyyaml in c:\\users\\vportmann\\.conda\\envs\\toolbox7\\lib\\site-packages (from intake==2.0.6) (6.0.1)\n",
      "Requirement already satisfied: platformdirs in c:\\users\\vportmann\\.conda\\envs\\toolbox7\\lib\\site-packages (from intake==2.0.6) (3.10.0)\n",
      "Collecting networkx (from intake==2.0.6)\n",
      "  Using cached networkx-3.2.1-py3-none-any.whl.metadata (5.2 kB)\n",
      "Using cached intake-2.0.6-py3-none-any.whl (133 kB)\n",
      "Using cached fsspec-2024.6.1-py3-none-any.whl (177 kB)\n",
      "Using cached networkx-3.2.1-py3-none-any.whl (1.6 MB)\n",
      "Installing collected packages: networkx, fsspec, intake\n",
      "Successfully installed fsspec-2024.6.1 intake-2.0.6 networkx-3.2.1\n"
     ]
    }
   ],
   "source": [
    "!pip install intake==2.0.6"
   ]
  },
  {
   "cell_type": "code",
   "execution_count": 4,
   "id": "e7c9b0db-9b6c-443d-a112-f1f4c9485616",
   "metadata": {
    "scrolled": true
   },
   "outputs": [
    {
     "name": "stdout",
     "output_type": "stream",
     "text": [
      "Collecting intake_esm==2023.11.10\n",
      "  Using cached intake_esm-2023.11.10-py3-none-any.whl.metadata (7.2 kB)\n",
      "Collecting dask>=2022.02.0 (from dask[complete]>=2022.02.0->intake_esm==2023.11.10)\n",
      "  Using cached dask-2024.7.1-py3-none-any.whl.metadata (3.8 kB)\n",
      "Collecting fastprogress>=1.0.0 (from intake_esm==2023.11.10)\n",
      "  Using cached fastprogress-1.0.3-py3-none-any.whl.metadata (5.6 kB)\n",
      "Requirement already satisfied: fsspec>=2022.11.0 in c:\\users\\vportmann\\.conda\\envs\\toolbox7\\lib\\site-packages (from intake_esm==2023.11.10) (2024.6.1)\n",
      "Requirement already satisfied: intake>=0.6.6 in c:\\users\\vportmann\\.conda\\envs\\toolbox7\\lib\\site-packages (from intake_esm==2023.11.10) (2.0.6)\n",
      "Collecting netCDF4>=1.5.5 (from intake_esm==2023.11.10)\n",
      "  Using cached netCDF4-1.7.1.post1-cp39-cp39-win_amd64.whl.metadata (1.8 kB)\n",
      "Collecting pandas>=2.1.0 (from intake_esm==2023.11.10)\n",
      "  Using cached pandas-2.2.2-cp39-cp39-win_amd64.whl.metadata (19 kB)\n",
      "Requirement already satisfied: requests>=2.24.0 in c:\\users\\vportmann\\.conda\\envs\\toolbox7\\lib\\site-packages (from intake_esm==2023.11.10) (2.32.3)\n",
      "Collecting xarray>=2022.06 (from intake_esm==2023.11.10)\n",
      "  Using cached xarray-2024.6.0-py3-none-any.whl.metadata (11 kB)\n",
      "Collecting zarr>=2.12 (from intake_esm==2023.11.10)\n",
      "  Using cached zarr-2.18.2-py3-none-any.whl.metadata (5.7 kB)\n",
      "Collecting pydantic>=2.0 (from intake_esm==2023.11.10)\n",
      "  Using cached pydantic-2.8.2-py3-none-any.whl.metadata (125 kB)\n",
      "Collecting click>=8.1 (from dask>=2022.02.0->dask[complete]>=2022.02.0->intake_esm==2023.11.10)\n",
      "  Using cached click-8.1.7-py3-none-any.whl.metadata (3.0 kB)\n",
      "Collecting cloudpickle>=1.5.0 (from dask>=2022.02.0->dask[complete]>=2022.02.0->intake_esm==2023.11.10)\n",
      "  Using cached cloudpickle-3.0.0-py3-none-any.whl.metadata (7.0 kB)\n",
      "Requirement already satisfied: packaging>=20.0 in c:\\users\\vportmann\\.conda\\envs\\toolbox7\\lib\\site-packages (from dask>=2022.02.0->dask[complete]>=2022.02.0->intake_esm==2023.11.10) (24.1)\n",
      "Collecting partd>=1.4.0 (from dask>=2022.02.0->dask[complete]>=2022.02.0->intake_esm==2023.11.10)\n",
      "  Using cached partd-1.4.2-py3-none-any.whl.metadata (4.6 kB)\n",
      "Requirement already satisfied: pyyaml>=5.3.1 in c:\\users\\vportmann\\.conda\\envs\\toolbox7\\lib\\site-packages (from dask>=2022.02.0->dask[complete]>=2022.02.0->intake_esm==2023.11.10) (6.0.1)\n",
      "Collecting toolz>=0.10.0 (from dask>=2022.02.0->dask[complete]>=2022.02.0->intake_esm==2023.11.10)\n",
      "  Using cached toolz-0.12.1-py3-none-any.whl.metadata (5.1 kB)\n",
      "Requirement already satisfied: importlib-metadata>=4.13.0 in c:\\users\\vportmann\\.conda\\envs\\toolbox7\\lib\\site-packages (from dask>=2022.02.0->dask[complete]>=2022.02.0->intake_esm==2023.11.10) (7.0.1)\n",
      "Requirement already satisfied: pyarrow>=7.0 in c:\\users\\vportmann\\appdata\\roaming\\python\\python39\\site-packages (from dask[complete]>=2022.02.0->intake_esm==2023.11.10) (13.0.0)\n",
      "Collecting pyarrow-hotfix (from dask[complete]>=2022.02.0->intake_esm==2023.11.10)\n",
      "  Using cached pyarrow_hotfix-0.6-py3-none-any.whl.metadata (3.6 kB)\n",
      "Collecting lz4>=4.3.2 (from dask[complete]>=2022.02.0->intake_esm==2023.11.10)\n",
      "  Using cached lz4-4.3.3-cp39-cp39-win_amd64.whl.metadata (3.8 kB)\n",
      "Requirement already satisfied: platformdirs in c:\\users\\vportmann\\.conda\\envs\\toolbox7\\lib\\site-packages (from intake>=0.6.6->intake_esm==2023.11.10) (3.10.0)\n",
      "Requirement already satisfied: networkx in c:\\users\\vportmann\\.conda\\envs\\toolbox7\\lib\\site-packages (from intake>=0.6.6->intake_esm==2023.11.10) (3.2.1)\n",
      "Collecting cftime (from netCDF4>=1.5.5->intake_esm==2023.11.10)\n",
      "  Using cached cftime-1.6.4-cp39-cp39-win_amd64.whl.metadata (8.9 kB)\n",
      "Requirement already satisfied: certifi in c:\\users\\vportmann\\.conda\\envs\\toolbox7\\lib\\site-packages (from netCDF4>=1.5.5->intake_esm==2023.11.10) (2024.7.4)\n",
      "Requirement already satisfied: numpy in c:\\users\\vportmann\\.conda\\envs\\toolbox7\\lib\\site-packages (from netCDF4>=1.5.5->intake_esm==2023.11.10) (1.26.4)\n",
      "Requirement already satisfied: python-dateutil>=2.8.2 in c:\\users\\vportmann\\.conda\\envs\\toolbox7\\lib\\site-packages (from pandas>=2.1.0->intake_esm==2023.11.10) (2.9.0.post0)\n",
      "Requirement already satisfied: pytz>=2020.1 in c:\\users\\vportmann\\.conda\\envs\\toolbox7\\lib\\site-packages (from pandas>=2.1.0->intake_esm==2023.11.10) (2024.1)\n",
      "Requirement already satisfied: tzdata>=2022.7 in c:\\users\\vportmann\\appdata\\roaming\\python\\python39\\site-packages (from pandas>=2.1.0->intake_esm==2023.11.10) (2023.3)\n",
      "Collecting annotated-types>=0.4.0 (from pydantic>=2.0->intake_esm==2023.11.10)\n",
      "  Using cached annotated_types-0.7.0-py3-none-any.whl.metadata (15 kB)\n",
      "Collecting pydantic-core==2.20.1 (from pydantic>=2.0->intake_esm==2023.11.10)\n",
      "  Using cached pydantic_core-2.20.1-cp39-none-win_amd64.whl.metadata (6.7 kB)\n",
      "Requirement already satisfied: typing-extensions>=4.6.1 in c:\\users\\vportmann\\.conda\\envs\\toolbox7\\lib\\site-packages (from pydantic>=2.0->intake_esm==2023.11.10) (4.11.0)\n",
      "Requirement already satisfied: charset-normalizer<4,>=2 in c:\\users\\vportmann\\.conda\\envs\\toolbox7\\lib\\site-packages (from requests>=2.24.0->intake_esm==2023.11.10) (3.3.2)\n",
      "Requirement already satisfied: idna<4,>=2.5 in c:\\users\\vportmann\\.conda\\envs\\toolbox7\\lib\\site-packages (from requests>=2.24.0->intake_esm==2023.11.10) (3.7)\n",
      "Requirement already satisfied: urllib3<3,>=1.21.1 in c:\\users\\vportmann\\.conda\\envs\\toolbox7\\lib\\site-packages (from requests>=2.24.0->intake_esm==2023.11.10) (2.2.2)\n",
      "Collecting asciitree (from zarr>=2.12->intake_esm==2023.11.10)\n",
      "  Using cached asciitree-0.3.3-py3-none-any.whl\n",
      "Collecting numcodecs>=0.10.0 (from zarr>=2.12->intake_esm==2023.11.10)\n",
      "  Using cached numcodecs-0.12.1-cp39-cp39-win_amd64.whl.metadata (2.9 kB)\n",
      "Collecting fasteners (from zarr>=2.12->intake_esm==2023.11.10)\n",
      "  Using cached fasteners-0.19-py3-none-any.whl.metadata (4.9 kB)\n",
      "Requirement already satisfied: colorama in c:\\users\\vportmann\\.conda\\envs\\toolbox7\\lib\\site-packages (from click>=8.1->dask>=2022.02.0->dask[complete]>=2022.02.0->intake_esm==2023.11.10) (0.4.6)\n",
      "Requirement already satisfied: zipp>=0.5 in c:\\users\\vportmann\\.conda\\envs\\toolbox7\\lib\\site-packages (from importlib-metadata>=4.13.0->dask>=2022.02.0->dask[complete]>=2022.02.0->intake_esm==2023.11.10) (3.17.0)\n",
      "Collecting locket (from partd>=1.4.0->dask>=2022.02.0->dask[complete]>=2022.02.0->intake_esm==2023.11.10)\n",
      "  Using cached locket-1.0.0-py2.py3-none-any.whl.metadata (2.8 kB)\n",
      "Requirement already satisfied: six>=1.5 in c:\\users\\vportmann\\.conda\\envs\\toolbox7\\lib\\site-packages (from python-dateutil>=2.8.2->pandas>=2.1.0->intake_esm==2023.11.10) (1.16.0)\n",
      "Collecting dask-expr<1.2,>=1.1 (from dask>=2022.02.0->dask[complete]>=2022.02.0->intake_esm==2023.11.10)\n",
      "  Using cached dask_expr-1.1.9-py3-none-any.whl.metadata (2.5 kB)\n",
      "Collecting distributed==2024.7.1 (from dask>=2022.02.0->dask[complete]>=2022.02.0->intake_esm==2023.11.10)\n",
      "  Using cached distributed-2024.7.1-py3-none-any.whl.metadata (3.4 kB)\n",
      "Collecting bokeh>=2.4.2 (from dask>=2022.02.0->dask[complete]>=2022.02.0->intake_esm==2023.11.10)\n",
      "  Using cached bokeh-3.4.2-py3-none-any.whl.metadata (12 kB)\n",
      "Requirement already satisfied: jinja2>=2.10.3 in c:\\users\\vportmann\\.conda\\envs\\toolbox7\\lib\\site-packages (from dask>=2022.02.0->dask[complete]>=2022.02.0->intake_esm==2023.11.10) (3.1.4)\n",
      "Collecting msgpack>=1.0.0 (from distributed==2024.7.1->dask>=2022.02.0->dask[complete]>=2022.02.0->intake_esm==2023.11.10)\n",
      "  Using cached msgpack-1.0.8-cp39-cp39-win_amd64.whl.metadata (9.4 kB)\n",
      "Requirement already satisfied: psutil>=5.7.2 in c:\\users\\vportmann\\.conda\\envs\\toolbox7\\lib\\site-packages (from distributed==2024.7.1->dask>=2022.02.0->dask[complete]>=2022.02.0->intake_esm==2023.11.10) (5.9.0)\n",
      "Collecting sortedcontainers>=2.0.5 (from distributed==2024.7.1->dask>=2022.02.0->dask[complete]>=2022.02.0->intake_esm==2023.11.10)\n",
      "  Using cached sortedcontainers-2.4.0-py2.py3-none-any.whl.metadata (10 kB)\n",
      "Collecting tblib>=1.6.0 (from distributed==2024.7.1->dask>=2022.02.0->dask[complete]>=2022.02.0->intake_esm==2023.11.10)\n",
      "  Using cached tblib-3.0.0-py3-none-any.whl.metadata (25 kB)\n",
      "Requirement already satisfied: tornado>=6.0.4 in c:\\users\\vportmann\\.conda\\envs\\toolbox7\\lib\\site-packages (from distributed==2024.7.1->dask>=2022.02.0->dask[complete]>=2022.02.0->intake_esm==2023.11.10) (6.4.1)\n",
      "Collecting zict>=3.0.0 (from distributed==2024.7.1->dask>=2022.02.0->dask[complete]>=2022.02.0->intake_esm==2023.11.10)\n",
      "  Using cached zict-3.0.0-py2.py3-none-any.whl.metadata (899 bytes)\n",
      "Collecting contourpy>=1.2 (from bokeh>=2.4.2->dask>=2022.02.0->dask[complete]>=2022.02.0->intake_esm==2023.11.10)\n",
      "  Using cached contourpy-1.2.1-cp39-cp39-win_amd64.whl.metadata (5.8 kB)\n",
      "Collecting pillow>=7.1.0 (from bokeh>=2.4.2->dask>=2022.02.0->dask[complete]>=2022.02.0->intake_esm==2023.11.10)\n",
      "  Using cached pillow-10.4.0-cp39-cp39-win_amd64.whl.metadata (9.3 kB)\n",
      "Collecting xyzservices>=2021.09.1 (from bokeh>=2.4.2->dask>=2022.02.0->dask[complete]>=2022.02.0->intake_esm==2023.11.10)\n",
      "  Using cached xyzservices-2024.6.0-py3-none-any.whl.metadata (4.0 kB)\n",
      "Requirement already satisfied: MarkupSafe>=2.0 in c:\\users\\vportmann\\.conda\\envs\\toolbox7\\lib\\site-packages (from jinja2>=2.10.3->dask>=2022.02.0->dask[complete]>=2022.02.0->intake_esm==2023.11.10) (2.1.3)\n",
      "Using cached intake_esm-2023.11.10-py3-none-any.whl (29 kB)\n",
      "Using cached dask-2024.7.1-py3-none-any.whl (1.2 MB)\n",
      "Using cached fastprogress-1.0.3-py3-none-any.whl (12 kB)\n",
      "Using cached netCDF4-1.7.1.post1-cp39-cp39-win_amd64.whl (7.0 MB)\n",
      "Using cached pandas-2.2.2-cp39-cp39-win_amd64.whl (11.6 MB)\n",
      "Using cached pydantic-2.8.2-py3-none-any.whl (423 kB)\n",
      "Using cached pydantic_core-2.20.1-cp39-none-win_amd64.whl (1.9 MB)\n",
      "Using cached xarray-2024.6.0-py3-none-any.whl (1.2 MB)\n",
      "Using cached zarr-2.18.2-py3-none-any.whl (210 kB)\n",
      "Using cached annotated_types-0.7.0-py3-none-any.whl (13 kB)\n",
      "Using cached click-8.1.7-py3-none-any.whl (97 kB)\n",
      "Using cached cloudpickle-3.0.0-py3-none-any.whl (20 kB)\n",
      "Using cached lz4-4.3.3-cp39-cp39-win_amd64.whl (99 kB)\n",
      "Using cached numcodecs-0.12.1-cp39-cp39-win_amd64.whl (792 kB)\n",
      "Using cached partd-1.4.2-py3-none-any.whl (18 kB)\n",
      "Using cached toolz-0.12.1-py3-none-any.whl (56 kB)\n",
      "Using cached cftime-1.6.4-cp39-cp39-win_amd64.whl (189 kB)\n",
      "Using cached distributed-2024.7.1-py3-none-any.whl (1.0 MB)\n",
      "Using cached fasteners-0.19-py3-none-any.whl (18 kB)\n",
      "Using cached pyarrow_hotfix-0.6-py3-none-any.whl (7.9 kB)\n",
      "Using cached bokeh-3.4.2-py3-none-any.whl (7.0 MB)\n",
      "Using cached dask_expr-1.1.9-py3-none-any.whl (241 kB)\n",
      "Using cached locket-1.0.0-py2.py3-none-any.whl (4.4 kB)\n",
      "Using cached contourpy-1.2.1-cp39-cp39-win_amd64.whl (182 kB)\n",
      "Using cached msgpack-1.0.8-cp39-cp39-win_amd64.whl (75 kB)\n",
      "Using cached pillow-10.4.0-cp39-cp39-win_amd64.whl (2.6 MB)\n",
      "Using cached sortedcontainers-2.4.0-py2.py3-none-any.whl (29 kB)\n",
      "Using cached tblib-3.0.0-py3-none-any.whl (12 kB)\n",
      "Using cached xyzservices-2024.6.0-py3-none-any.whl (83 kB)\n",
      "Using cached zict-3.0.0-py2.py3-none-any.whl (43 kB)\n",
      "Installing collected packages: sortedcontainers, asciitree, zict, xyzservices, toolz, tblib, pydantic-core, pyarrow-hotfix, pillow, numcodecs, msgpack, lz4, locket, fastprogress, fasteners, contourpy, cloudpickle, click, cftime, annotated-types, zarr, pydantic, partd, pandas, netCDF4, xarray, dask, bokeh, distributed, dask-expr, intake_esm\n",
      "Successfully installed annotated-types-0.7.0 asciitree-0.3.3 bokeh-3.4.2 cftime-1.6.4 click-8.1.7 cloudpickle-3.0.0 contourpy-1.2.1 dask-2024.7.1 dask-expr-1.1.9 distributed-2024.7.1 fasteners-0.19 fastprogress-1.0.3 intake_esm-2023.11.10 locket-1.0.0 lz4-4.3.3 msgpack-1.0.8 netCDF4-1.7.1.post1 numcodecs-0.12.1 pandas-2.2.2 partd-1.4.2 pillow-10.4.0 pyarrow-hotfix-0.6 pydantic-2.8.2 pydantic-core-2.20.1 sortedcontainers-2.4.0 tblib-3.0.0 toolz-0.12.1 xarray-2024.6.0 xyzservices-2024.6.0 zarr-2.18.2 zict-3.0.0\n"
     ]
    },
    {
     "name": "stderr",
     "output_type": "stream",
     "text": [
      "ERROR: pip's dependency resolver does not currently take into account all the packages that are installed. This behaviour is the source of the following dependency conflicts.\n",
      "factor-analyzer 0.5.0 requires scikit-learn, which is not installed.\n",
      "factor-analyzer 0.5.0 requires scipy, which is not installed.\n",
      "prince 0.7.1 requires matplotlib>=3.0.2, which is not installed.\n",
      "prince 0.7.1 requires scikit-learn>=0.22.1, which is not installed.\n",
      "prince 0.7.1 requires scipy>=1.3.0, which is not installed.\n"
     ]
    }
   ],
   "source": [
    "!pip install intake_esm==2023.11.10"
   ]
  },
  {
   "cell_type": "code",
   "execution_count": 5,
   "id": "e2fc0200-3d05-4334-a8a7-8b716c4cb2d4",
   "metadata": {
    "scrolled": true
   },
   "outputs": [
    {
     "name": "stdout",
     "output_type": "stream",
     "text": [
      "Collecting aiohttp==3.9.5\n",
      "  Using cached aiohttp-3.9.5-cp39-cp39-win_amd64.whl.metadata (7.7 kB)\n",
      "Collecting aiosignal>=1.1.2 (from aiohttp==3.9.5)\n",
      "  Using cached aiosignal-1.3.1-py3-none-any.whl.metadata (4.0 kB)\n",
      "Requirement already satisfied: attrs>=17.3.0 in c:\\users\\vportmann\\.conda\\envs\\toolbox7\\lib\\site-packages (from aiohttp==3.9.5) (23.1.0)\n",
      "Collecting frozenlist>=1.1.1 (from aiohttp==3.9.5)\n",
      "  Using cached frozenlist-1.4.1-cp39-cp39-win_amd64.whl.metadata (12 kB)\n",
      "Collecting multidict<7.0,>=4.5 (from aiohttp==3.9.5)\n",
      "  Using cached multidict-6.0.5-cp39-cp39-win_amd64.whl.metadata (4.3 kB)\n",
      "Collecting yarl<2.0,>=1.0 (from aiohttp==3.9.5)\n",
      "  Using cached yarl-1.9.4-cp39-cp39-win_amd64.whl.metadata (32 kB)\n",
      "Collecting async-timeout<5.0,>=4.0 (from aiohttp==3.9.5)\n",
      "  Using cached async_timeout-4.0.3-py3-none-any.whl.metadata (4.2 kB)\n",
      "Requirement already satisfied: idna>=2.0 in c:\\users\\vportmann\\.conda\\envs\\toolbox7\\lib\\site-packages (from yarl<2.0,>=1.0->aiohttp==3.9.5) (3.7)\n",
      "Using cached aiohttp-3.9.5-cp39-cp39-win_amd64.whl (371 kB)\n",
      "Using cached aiosignal-1.3.1-py3-none-any.whl (7.6 kB)\n",
      "Using cached async_timeout-4.0.3-py3-none-any.whl (5.7 kB)\n",
      "Using cached frozenlist-1.4.1-cp39-cp39-win_amd64.whl (50 kB)\n",
      "Using cached multidict-6.0.5-cp39-cp39-win_amd64.whl (28 kB)\n",
      "Using cached yarl-1.9.4-cp39-cp39-win_amd64.whl (76 kB)\n",
      "Installing collected packages: multidict, frozenlist, async-timeout, yarl, aiosignal, aiohttp\n",
      "Successfully installed aiohttp-3.9.5 aiosignal-1.3.1 async-timeout-4.0.3 frozenlist-1.4.1 multidict-6.0.5 yarl-1.9.4\n"
     ]
    }
   ],
   "source": [
    "!pip install aiohttp==3.9.5"
   ]
  },
  {
   "cell_type": "code",
   "execution_count": 6,
   "id": "cd7f0e14-f79b-4535-b367-a8a8ca7e7e60",
   "metadata": {},
   "outputs": [
    {
     "name": "stdout",
     "output_type": "stream",
     "text": [
      "Requirement already satisfied: xarray==2024.6.0 in c:\\users\\vportmann\\.conda\\envs\\toolbox7\\lib\\site-packages (2024.6.0)\n",
      "Requirement already satisfied: numpy>=1.23 in c:\\users\\vportmann\\.conda\\envs\\toolbox7\\lib\\site-packages (from xarray==2024.6.0) (1.26.4)\n",
      "Requirement already satisfied: packaging>=23.1 in c:\\users\\vportmann\\.conda\\envs\\toolbox7\\lib\\site-packages (from xarray==2024.6.0) (24.1)\n",
      "Requirement already satisfied: pandas>=2.0 in c:\\users\\vportmann\\.conda\\envs\\toolbox7\\lib\\site-packages (from xarray==2024.6.0) (2.2.2)\n",
      "Requirement already satisfied: python-dateutil>=2.8.2 in c:\\users\\vportmann\\.conda\\envs\\toolbox7\\lib\\site-packages (from pandas>=2.0->xarray==2024.6.0) (2.9.0.post0)\n",
      "Requirement already satisfied: pytz>=2020.1 in c:\\users\\vportmann\\.conda\\envs\\toolbox7\\lib\\site-packages (from pandas>=2.0->xarray==2024.6.0) (2024.1)\n",
      "Requirement already satisfied: tzdata>=2022.7 in c:\\users\\vportmann\\appdata\\roaming\\python\\python39\\site-packages (from pandas>=2.0->xarray==2024.6.0) (2023.3)\n",
      "Requirement already satisfied: six>=1.5 in c:\\users\\vportmann\\.conda\\envs\\toolbox7\\lib\\site-packages (from python-dateutil>=2.8.2->pandas>=2.0->xarray==2024.6.0) (1.16.0)\n"
     ]
    }
   ],
   "source": [
    "!pip install xarray==2024.6.0"
   ]
  },
  {
   "cell_type": "code",
   "execution_count": 7,
   "id": "f6355ece-edc2-4284-9fc4-7e05de57b0eb",
   "metadata": {
    "scrolled": true
   },
   "outputs": [
    {
     "name": "stdout",
     "output_type": "stream",
     "text": [
      "Collecting matplotlib==3.9.1\n",
      "  Using cached matplotlib-3.9.1-cp39-cp39-win_amd64.whl.metadata (11 kB)\n",
      "Requirement already satisfied: contourpy>=1.0.1 in c:\\users\\vportmann\\.conda\\envs\\toolbox7\\lib\\site-packages (from matplotlib==3.9.1) (1.2.1)\n",
      "Collecting cycler>=0.10 (from matplotlib==3.9.1)\n",
      "  Using cached cycler-0.12.1-py3-none-any.whl.metadata (3.8 kB)\n",
      "Collecting fonttools>=4.22.0 (from matplotlib==3.9.1)\n",
      "  Using cached fonttools-4.53.1-cp39-cp39-win_amd64.whl.metadata (165 kB)\n",
      "Collecting kiwisolver>=1.3.1 (from matplotlib==3.9.1)\n",
      "  Using cached kiwisolver-1.4.5-cp39-cp39-win_amd64.whl.metadata (6.5 kB)\n",
      "Requirement already satisfied: numpy>=1.23 in c:\\users\\vportmann\\.conda\\envs\\toolbox7\\lib\\site-packages (from matplotlib==3.9.1) (1.26.4)\n",
      "Requirement already satisfied: packaging>=20.0 in c:\\users\\vportmann\\.conda\\envs\\toolbox7\\lib\\site-packages (from matplotlib==3.9.1) (24.1)\n",
      "Requirement already satisfied: pillow>=8 in c:\\users\\vportmann\\.conda\\envs\\toolbox7\\lib\\site-packages (from matplotlib==3.9.1) (10.4.0)\n",
      "Collecting pyparsing>=2.3.1 (from matplotlib==3.9.1)\n",
      "  Using cached pyparsing-3.1.2-py3-none-any.whl.metadata (5.1 kB)\n",
      "Requirement already satisfied: python-dateutil>=2.7 in c:\\users\\vportmann\\.conda\\envs\\toolbox7\\lib\\site-packages (from matplotlib==3.9.1) (2.9.0.post0)\n",
      "Collecting importlib-resources>=3.2.0 (from matplotlib==3.9.1)\n",
      "  Using cached importlib_resources-6.4.0-py3-none-any.whl.metadata (3.9 kB)\n",
      "Requirement already satisfied: zipp>=3.1.0 in c:\\users\\vportmann\\.conda\\envs\\toolbox7\\lib\\site-packages (from importlib-resources>=3.2.0->matplotlib==3.9.1) (3.17.0)\n",
      "Requirement already satisfied: six>=1.5 in c:\\users\\vportmann\\.conda\\envs\\toolbox7\\lib\\site-packages (from python-dateutil>=2.7->matplotlib==3.9.1) (1.16.0)\n",
      "Using cached matplotlib-3.9.1-cp39-cp39-win_amd64.whl (8.0 MB)\n",
      "Using cached cycler-0.12.1-py3-none-any.whl (8.3 kB)\n",
      "Using cached fonttools-4.53.1-cp39-cp39-win_amd64.whl (2.2 MB)\n",
      "Using cached importlib_resources-6.4.0-py3-none-any.whl (38 kB)\n",
      "Using cached kiwisolver-1.4.5-cp39-cp39-win_amd64.whl (56 kB)\n",
      "Using cached pyparsing-3.1.2-py3-none-any.whl (103 kB)\n",
      "Installing collected packages: pyparsing, kiwisolver, importlib-resources, fonttools, cycler, matplotlib\n",
      "Successfully installed cycler-0.12.1 fonttools-4.53.1 importlib-resources-6.4.0 kiwisolver-1.4.5 matplotlib-3.9.1 pyparsing-3.1.2\n"
     ]
    },
    {
     "name": "stderr",
     "output_type": "stream",
     "text": [
      "ERROR: pip's dependency resolver does not currently take into account all the packages that are installed. This behaviour is the source of the following dependency conflicts.\n",
      "prince 0.7.1 requires scikit-learn>=0.22.1, which is not installed.\n",
      "prince 0.7.1 requires scipy>=1.3.0, which is not installed.\n"
     ]
    }
   ],
   "source": [
    "!pip install matplotlib==3.9.1"
   ]
  },
  {
   "cell_type": "code",
   "execution_count": 8,
   "id": "cb1a492e-1823-42ae-a6d6-535e7a4796b3",
   "metadata": {
    "scrolled": true
   },
   "outputs": [
    {
     "name": "stdout",
     "output_type": "stream",
     "text": [
      "Collecting netCDF4==1.7.1\n",
      "  Using cached netCDF4-1.7.1-cp39-cp39-win_amd64.whl.metadata (1.8 kB)\n",
      "Requirement already satisfied: cftime in c:\\users\\vportmann\\.conda\\envs\\toolbox7\\lib\\site-packages (from netCDF4==1.7.1) (1.6.4)\n",
      "Requirement already satisfied: certifi in c:\\users\\vportmann\\.conda\\envs\\toolbox7\\lib\\site-packages (from netCDF4==1.7.1) (2024.7.4)\n",
      "Requirement already satisfied: numpy in c:\\users\\vportmann\\.conda\\envs\\toolbox7\\lib\\site-packages (from netCDF4==1.7.1) (1.26.4)\n",
      "Using cached netCDF4-1.7.1-cp39-cp39-win_amd64.whl (7.0 MB)\n",
      "Installing collected packages: netCDF4\n",
      "  Attempting uninstall: netCDF4\n",
      "    Found existing installation: netCDF4 1.7.1.post1\n",
      "    Uninstalling netCDF4-1.7.1.post1:\n",
      "      Successfully uninstalled netCDF4-1.7.1.post1\n",
      "Successfully installed netCDF4-1.7.1\n"
     ]
    },
    {
     "name": "stderr",
     "output_type": "stream",
     "text": [
      "WARNING: The candidate selected for download or install is a yanked version: 'netcdf4' candidate (version 1.7.1 at https://files.pythonhosted.org/packages/4b/9d/bb1125e87287290321fc222fd6ff0fc5b96ea1a28b00b162a1b5bc0d07b0/netCDF4-1.7.1-cp39-cp39-win_amd64.whl (from https://pypi.org/simple/netcdf4/) (requires-python:>=3.8))\n",
      "Reason for being yanked: curl lib problems prevent opendap from working\n"
     ]
    }
   ],
   "source": [
    "!pip install netCDF4==1.7.1"
   ]
  },
  {
   "cell_type": "code",
   "execution_count": 9,
   "id": "d3b65c12-bd70-4ac2-b621-3be534e412ae",
   "metadata": {},
   "outputs": [
    {
     "name": "stdout",
     "output_type": "stream",
     "text": [
      "Collecting scipy==1.13.1\n",
      "  Using cached scipy-1.13.1-cp39-cp39-win_amd64.whl.metadata (60 kB)\n",
      "Requirement already satisfied: numpy<2.3,>=1.22.4 in c:\\users\\vportmann\\.conda\\envs\\toolbox7\\lib\\site-packages (from scipy==1.13.1) (1.26.4)\n",
      "Using cached scipy-1.13.1-cp39-cp39-win_amd64.whl (46.2 MB)\n",
      "Installing collected packages: scipy\n",
      "Successfully installed scipy-1.13.1\n"
     ]
    },
    {
     "name": "stderr",
     "output_type": "stream",
     "text": [
      "ERROR: pip's dependency resolver does not currently take into account all the packages that are installed. This behaviour is the source of the following dependency conflicts.\n",
      "factor-analyzer 0.5.0 requires scikit-learn, which is not installed.\n",
      "prince 0.7.1 requires scikit-learn>=0.22.1, which is not installed.\n",
      "scikit-learn-extra 0.3.0 requires scikit-learn>=0.23.0, which is not installed.\n",
      "sliced 0.7.0 requires scikit-learn>=0.17, which is not installed.\n",
      "tensorflow-intel 2.12.0 requires h5py>=2.9.0, which is not installed.\n",
      "tensorflow-intel 2.12.0 requires wrapt<1.15,>=1.11.0, which is not installed.\n",
      "tensorflow-intel 2.12.0 requires numpy<1.24,>=1.22, but you have numpy 1.26.4 which is incompatible.\n"
     ]
    }
   ],
   "source": [
    "!pip install scipy==1.13.1"
   ]
  },
  {
   "cell_type": "code",
   "execution_count": 10,
   "id": "792e87fb-6c5e-4dc8-83f7-ab0a92bd90ee",
   "metadata": {
    "scrolled": true
   },
   "outputs": [
    {
     "name": "stdout",
     "output_type": "stream",
     "text": [
      "Collecting gcsfs==2024.6.1\n",
      "  Using cached gcsfs-2024.6.1-py2.py3-none-any.whl.metadata (1.6 kB)\n",
      "Requirement already satisfied: aiohttp!=4.0.0a0,!=4.0.0a1 in c:\\users\\vportmann\\.conda\\envs\\toolbox7\\lib\\site-packages (from gcsfs==2024.6.1) (3.9.5)\n",
      "Requirement already satisfied: decorator>4.1.2 in c:\\users\\vportmann\\.conda\\envs\\toolbox7\\lib\\site-packages (from gcsfs==2024.6.1) (5.1.1)\n",
      "Requirement already satisfied: fsspec==2024.6.1 in c:\\users\\vportmann\\.conda\\envs\\toolbox7\\lib\\site-packages (from gcsfs==2024.6.1) (2024.6.1)\n",
      "Collecting google-auth>=1.2 (from gcsfs==2024.6.1)\n",
      "  Using cached google_auth-2.32.0-py2.py3-none-any.whl.metadata (4.7 kB)\n",
      "Requirement already satisfied: google-auth-oauthlib in c:\\users\\vportmann\\appdata\\roaming\\python\\python39\\site-packages (from gcsfs==2024.6.1) (1.0.0)\n",
      "Collecting google-cloud-storage (from gcsfs==2024.6.1)\n",
      "  Using cached google_cloud_storage-2.18.0-py2.py3-none-any.whl.metadata (9.1 kB)\n",
      "Requirement already satisfied: requests in c:\\users\\vportmann\\.conda\\envs\\toolbox7\\lib\\site-packages (from gcsfs==2024.6.1) (2.32.3)\n",
      "Requirement already satisfied: aiosignal>=1.1.2 in c:\\users\\vportmann\\.conda\\envs\\toolbox7\\lib\\site-packages (from aiohttp!=4.0.0a0,!=4.0.0a1->gcsfs==2024.6.1) (1.3.1)\n",
      "Requirement already satisfied: attrs>=17.3.0 in c:\\users\\vportmann\\.conda\\envs\\toolbox7\\lib\\site-packages (from aiohttp!=4.0.0a0,!=4.0.0a1->gcsfs==2024.6.1) (23.1.0)\n",
      "Requirement already satisfied: frozenlist>=1.1.1 in c:\\users\\vportmann\\.conda\\envs\\toolbox7\\lib\\site-packages (from aiohttp!=4.0.0a0,!=4.0.0a1->gcsfs==2024.6.1) (1.4.1)\n",
      "Requirement already satisfied: multidict<7.0,>=4.5 in c:\\users\\vportmann\\.conda\\envs\\toolbox7\\lib\\site-packages (from aiohttp!=4.0.0a0,!=4.0.0a1->gcsfs==2024.6.1) (6.0.5)\n",
      "Requirement already satisfied: yarl<2.0,>=1.0 in c:\\users\\vportmann\\.conda\\envs\\toolbox7\\lib\\site-packages (from aiohttp!=4.0.0a0,!=4.0.0a1->gcsfs==2024.6.1) (1.9.4)\n",
      "Requirement already satisfied: async-timeout<5.0,>=4.0 in c:\\users\\vportmann\\.conda\\envs\\toolbox7\\lib\\site-packages (from aiohttp!=4.0.0a0,!=4.0.0a1->gcsfs==2024.6.1) (4.0.3)\n",
      "Requirement already satisfied: cachetools<6.0,>=2.0.0 in c:\\users\\vportmann\\appdata\\roaming\\python\\python39\\site-packages (from google-auth>=1.2->gcsfs==2024.6.1) (5.3.0)\n",
      "Collecting pyasn1-modules>=0.2.1 (from google-auth>=1.2->gcsfs==2024.6.1)\n",
      "  Using cached pyasn1_modules-0.4.0-py3-none-any.whl.metadata (3.4 kB)\n",
      "Requirement already satisfied: rsa<5,>=3.1.4 in c:\\users\\vportmann\\appdata\\roaming\\python\\python39\\site-packages (from google-auth>=1.2->gcsfs==2024.6.1) (4.9)\n",
      "Requirement already satisfied: requests-oauthlib>=0.7.0 in c:\\users\\vportmann\\appdata\\roaming\\python\\python39\\site-packages (from google-auth-oauthlib->gcsfs==2024.6.1) (1.3.1)\n",
      "Collecting google-api-core<3.0.0dev,>=2.15.0 (from google-cloud-storage->gcsfs==2024.6.1)\n",
      "  Using cached google_api_core-2.19.1-py3-none-any.whl.metadata (2.7 kB)\n",
      "Collecting google-cloud-core<3.0dev,>=2.3.0 (from google-cloud-storage->gcsfs==2024.6.1)\n",
      "  Using cached google_cloud_core-2.4.1-py2.py3-none-any.whl.metadata (2.7 kB)\n",
      "Collecting google-resumable-media>=2.6.0 (from google-cloud-storage->gcsfs==2024.6.1)\n",
      "  Using cached google_resumable_media-2.7.1-py2.py3-none-any.whl.metadata (2.2 kB)\n",
      "Collecting google-crc32c<2.0dev,>=1.0 (from google-cloud-storage->gcsfs==2024.6.1)\n",
      "  Using cached google_crc32c-1.5.0-cp39-cp39-win_amd64.whl.metadata (2.3 kB)\n",
      "Requirement already satisfied: charset-normalizer<4,>=2 in c:\\users\\vportmann\\.conda\\envs\\toolbox7\\lib\\site-packages (from requests->gcsfs==2024.6.1) (3.3.2)\n",
      "Requirement already satisfied: idna<4,>=2.5 in c:\\users\\vportmann\\.conda\\envs\\toolbox7\\lib\\site-packages (from requests->gcsfs==2024.6.1) (3.7)\n",
      "Requirement already satisfied: urllib3<3,>=1.21.1 in c:\\users\\vportmann\\.conda\\envs\\toolbox7\\lib\\site-packages (from requests->gcsfs==2024.6.1) (2.2.2)\n",
      "Requirement already satisfied: certifi>=2017.4.17 in c:\\users\\vportmann\\.conda\\envs\\toolbox7\\lib\\site-packages (from requests->gcsfs==2024.6.1) (2024.7.4)\n",
      "Collecting googleapis-common-protos<2.0.dev0,>=1.56.2 (from google-api-core<3.0.0dev,>=2.15.0->google-cloud-storage->gcsfs==2024.6.1)\n",
      "  Using cached googleapis_common_protos-1.63.2-py2.py3-none-any.whl.metadata (1.5 kB)\n",
      "Requirement already satisfied: protobuf!=3.20.0,!=3.20.1,!=4.21.0,!=4.21.1,!=4.21.2,!=4.21.3,!=4.21.4,!=4.21.5,<6.0.0.dev0,>=3.19.5 in c:\\users\\vportmann\\appdata\\roaming\\python\\python39\\site-packages (from google-api-core<3.0.0dev,>=2.15.0->google-cloud-storage->gcsfs==2024.6.1) (4.22.1)\n",
      "Collecting proto-plus<2.0.0dev,>=1.22.3 (from google-api-core<3.0.0dev,>=2.15.0->google-cloud-storage->gcsfs==2024.6.1)\n",
      "  Using cached proto_plus-1.24.0-py3-none-any.whl.metadata (2.2 kB)\n",
      "Collecting pyasn1<0.7.0,>=0.4.6 (from pyasn1-modules>=0.2.1->google-auth>=1.2->gcsfs==2024.6.1)\n",
      "  Using cached pyasn1-0.6.0-py2.py3-none-any.whl.metadata (8.3 kB)\n",
      "Requirement already satisfied: oauthlib>=3.0.0 in c:\\users\\vportmann\\appdata\\roaming\\python\\python39\\site-packages (from requests-oauthlib>=0.7.0->google-auth-oauthlib->gcsfs==2024.6.1) (3.2.2)\n",
      "Using cached gcsfs-2024.6.1-py2.py3-none-any.whl (34 kB)\n",
      "Using cached google_auth-2.32.0-py2.py3-none-any.whl (195 kB)\n",
      "Using cached google_cloud_storage-2.18.0-py2.py3-none-any.whl (130 kB)\n",
      "Using cached google_api_core-2.19.1-py3-none-any.whl (139 kB)\n",
      "Using cached google_cloud_core-2.4.1-py2.py3-none-any.whl (29 kB)\n",
      "Using cached google_crc32c-1.5.0-cp39-cp39-win_amd64.whl (27 kB)\n",
      "Using cached google_resumable_media-2.7.1-py2.py3-none-any.whl (81 kB)\n",
      "Using cached pyasn1_modules-0.4.0-py3-none-any.whl (181 kB)\n",
      "Using cached googleapis_common_protos-1.63.2-py2.py3-none-any.whl (220 kB)\n",
      "Using cached proto_plus-1.24.0-py3-none-any.whl (50 kB)\n",
      "Using cached pyasn1-0.6.0-py2.py3-none-any.whl (85 kB)\n",
      "Installing collected packages: pyasn1, proto-plus, googleapis-common-protos, google-crc32c, pyasn1-modules, google-resumable-media, google-auth, google-api-core, google-cloud-core, google-cloud-storage, gcsfs\n",
      "Successfully installed gcsfs-2024.6.1 google-api-core-2.19.1 google-auth-2.32.0 google-cloud-core-2.4.1 google-cloud-storage-2.18.0 google-crc32c-1.5.0 google-resumable-media-2.7.1 googleapis-common-protos-1.63.2 proto-plus-1.24.0 pyasn1-0.6.0 pyasn1-modules-0.4.0\n"
     ]
    },
    {
     "name": "stderr",
     "output_type": "stream",
     "text": [
      "ERROR: pip's dependency resolver does not currently take into account all the packages that are installed. This behaviour is the source of the following dependency conflicts.\n",
      "tensorboard 2.12.1 requires markdown>=2.6.8, which is not installed.\n",
      "tensorboard 2.12.1 requires werkzeug>=1.0.1, which is not installed.\n",
      "tensorflow-intel 2.12.0 requires h5py>=2.9.0, which is not installed.\n",
      "tensorflow-intel 2.12.0 requires wrapt<1.15,>=1.11.0, which is not installed.\n",
      "tensorflow-intel 2.12.0 requires numpy<1.24,>=1.22, but you have numpy 1.26.4 which is incompatible.\n"
     ]
    }
   ],
   "source": [
    "!pip install gcsfs==2024.6.1"
   ]
  },
  {
   "cell_type": "code",
   "execution_count": null,
   "id": "6475087d-3c25-4be0-80dc-52c40dc543ba",
   "metadata": {},
   "outputs": [],
   "source": []
  },
  {
   "cell_type": "code",
   "execution_count": null,
   "id": "259325cb-52b3-4609-b3c3-4f7781a141cf",
   "metadata": {},
   "outputs": [],
   "source": []
  }
 ],
 "metadata": {
  "kernelspec": {
   "display_name": "Python 3 (ipykernel)",
   "language": "python",
   "name": "python3"
  },
  "language_info": {
   "codemirror_mode": {
    "name": "ipython",
    "version": 3
   },
   "file_extension": ".py",
   "mimetype": "text/x-python",
   "name": "python",
   "nbconvert_exporter": "python",
   "pygments_lexer": "ipython3",
   "version": "3.9.19"
  }
 },
 "nbformat": 4,
 "nbformat_minor": 5
}
